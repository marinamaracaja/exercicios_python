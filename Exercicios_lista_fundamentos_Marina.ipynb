{
  "nbformat": 4,
  "nbformat_minor": 0,
  "metadata": {
    "colab": {
      "name": "Exercícios lista_fundamentos_Marina.ipynb",
      "provenance": [],
      "collapsed_sections": []
    },
    "kernelspec": {
      "name": "python3",
      "display_name": "Python 3"
    },
    "language_info": {
      "name": "python"
    }
  },
  "cells": [
    {
      "cell_type": "code",
      "source": [
        "#1) Faça um algoritmo que leia os valores A, B, C e imprima na tela se a soma de A + B for menor que C.\n",
        "\n",
        "while True:\n",
        "  try:\n",
        "    A = int(input('Digite o primeiro número: '))\n",
        "    B = int(input('Digite o segundo número: '))\n",
        "    C = int(input('Digite o terceiro número: '))\n",
        "    break\n",
        "  except:\n",
        "    print('Digite um número inteiro')\n",
        "\n",
        "soma = A + B\n",
        "if A + B < C:\n",
        "  print(f'{A} + {B} é {soma} que é menor que {C}')\n",
        "else:\n",
        "  print(f'{A} + {B} é {soma} que é maior que {C}')  "
      ],
      "metadata": {
        "id": "QX_d9PDJD9dj"
      },
      "execution_count": null,
      "outputs": []
    },
    {
      "cell_type": "code",
      "source": [
        "# 2) Faça um algoritmo que leia dois valores inteiros A e B se os valores forem iguais deverá se somar os dois,\n",
        "# caso contrário multiplique A por B.\n",
        "#Ao final de qualquer um dos cálculos deve-se atribuir o resultado para uma variável C e mostrar seu conteúdo na tela.\n",
        "\n",
        "while True:\n",
        "  try:\n",
        "    A = int(input('Digite o primeiro número: '))\n",
        "    B = int(input('Digite o segundo número: '))\n",
        "    break\n",
        "  except:\n",
        "    print('Digite um número inteiro')\n",
        "\n",
        "\n",
        "if A == B:\n",
        "  C = A + B\n",
        "else:\n",
        "  C = A * B\n",
        "\n",
        "print(f'O resultado é {C}')"
      ],
      "metadata": {
        "colab": {
          "base_uri": "https://localhost:8080/"
        },
        "id": "dngAW9CEFIpI",
        "outputId": "696863da-20f5-4d3c-89e3-b6e65f250252"
      },
      "execution_count": null,
      "outputs": [
        {
          "output_type": "stream",
          "name": "stdout",
          "text": [
            "Digite o primeiro número: 5\n",
            "Digite o segundo número: 5\n",
            "O resultado é 10\n"
          ]
        }
      ]
    },
    {
      "cell_type": "code",
      "source": [
        "#3) Encontrar o dobro de um número caso ele seja positivo e o seu triplo caso seja negativo, imprimindo o resultado.\n",
        "\n",
        "while True:\n",
        "  try:\n",
        "    A = int(input('Digite um número: '))\n",
        "    while A == 0:\n",
        "      print('Digite um valor diferente de zero.')\n",
        "      A = int(input('Digite um número: '))\n",
        "    break\n",
        "  except:\n",
        "    print('Digite um número inteiro')\n",
        "\n",
        "if A > 0:\n",
        "  print(f'O dobro de {A} é {A*2}')\n",
        "\n",
        "elif A < 0:\n",
        "  print(f'O triplo de {A} é {A*3}')\n",
        "\n",
        "\n"
      ],
      "metadata": {
        "colab": {
          "base_uri": "https://localhost:8080/"
        },
        "id": "Sa0qyF_KGlXr",
        "outputId": "5a50d955-9ab7-4c9c-88f6-10ed2081f35c"
      },
      "execution_count": null,
      "outputs": [
        {
          "output_type": "stream",
          "name": "stdout",
          "text": [
            "Digite um número: -5\n",
            "O triplo de -5 é -15\n"
          ]
        }
      ]
    },
    {
      "cell_type": "code",
      "source": [
        "#4) Escrever um algoritmo que gera e escreve os números ímpares entre 100 e 200.\n",
        "\n",
        "for i in range(101, 201, 2):\n",
        "  print(i, end = '; ')"
      ],
      "metadata": {
        "colab": {
          "base_uri": "https://localhost:8080/"
        },
        "id": "pFqRxJKIHgqd",
        "outputId": "df3dbdbb-57d6-49b6-9556-bad68a359e52"
      },
      "execution_count": null,
      "outputs": [
        {
          "output_type": "stream",
          "name": "stdout",
          "text": [
            "101; 103; 105; 107; 109; 111; 113; 115; 117; 119; 121; 123; 125; 127; 129; 131; 133; 135; 137; 139; 141; 143; 145; 147; 149; 151; 153; 155; 157; 159; 161; 163; 165; 167; 169; 171; 173; 175; 177; 179; 181; 183; 185; 187; 189; 191; 193; 195; 197; 199; "
          ]
        }
      ]
    },
    {
      "cell_type": "code",
      "source": [
        "#5)Escreva um algoritmo que leia um valor inicial A e uma razão R e imprima uma seqüência em P.A. contendo 10 valores.\n",
        "\n",
        "\n",
        "while True:\n",
        "  try:\n",
        "    A = int(input('Digite um valor inicial: '))\n",
        "    while A == 0:\n",
        "      print('Digite um valor diferente de zero.')\n",
        "      A = int(input('Digite um valor inicial: '))\n",
        "    break\n",
        "  except:\n",
        "    print('Digite um número inteiro')\n",
        "\n",
        "while True:\n",
        "  try:\n",
        "    R = int(input('Digite uma razão: '))\n",
        "    while R == 0:\n",
        "      print('Digite um valor diferente de zero.')\n",
        "      R = int(input('Digite uma razão: '))\n",
        "    break\n",
        "  except:\n",
        "    print('Digite um número inteiro')\n",
        "\n",
        "soma = 0\n",
        "AN = A + (10-1)*R\n",
        "AN = AN +1\n",
        "\n",
        "for var in range(A, AN, R):\n",
        "  print(var, end = '; ')\n",
        "  soma = soma + var\n",
        "\n"
      ],
      "metadata": {
        "colab": {
          "base_uri": "https://localhost:8080/"
        },
        "id": "K3OnpW-6PmzV",
        "outputId": "3acc806d-141d-4adc-84e7-741722eef266"
      },
      "execution_count": null,
      "outputs": [
        {
          "output_type": "stream",
          "name": "stdout",
          "text": [
            "Digite um valor inicial: 8\n",
            "Digite uma razão: 0\n",
            "Digite um valor diferente de zero.\n",
            "Digite uma razão: 8\n",
            "8; 16; 24; 32; 40; 48; 56; 64; 72; 80; "
          ]
        }
      ]
    },
    {
      "cell_type": "code",
      "source": [
        "#6)Desenvolver um algoritmo que leia a altura de 15 pessoas.\n",
        "#Este programa deverá calcular e mostrar:\n",
        "#a. A menor altura do grupo; b. A maior altura do grupo;\n",
        "\n",
        "# i = 0\n",
        "# altura = []\n",
        "# pessoa = []\n",
        "\n",
        "# for i in range(2):\n",
        "#   pessoa = (input(\"Digite o nome da pessoa: \"))\n",
        "#   altura.append(float(input(f\"Digite a altura de {pessoa}: \")))\n",
        "\n",
        "\n",
        "# menor_altura = min(altura)\n",
        "# maior_altura = max(altura)\n",
        "\n",
        "    \n",
        "# print(f\"A maior altura do grupo foi: {maior_altura}\")\n",
        "# print(f\"A menor altura do grupo foi: {menor_altura}\")\n",
        "\n",
        "i = 0\n",
        "altura = []\n",
        "nomes = []\n",
        "\n",
        "for i in range(2):\n",
        "  nomes.append(input(\"Digite o nome da pessoa: \"))\n",
        "  altura.append(float(input(f\"Digite a altura de desta pessoa: \")))\n",
        "\n",
        "maior_altura = max(altura)\n",
        "menor_altura = min(altura)\n",
        "\n",
        "maior_pessoa = altura.index(maior_altura) #na variavel maior_pessoa é atribuída o index q está a maior altura\n",
        "menor_pessoa = altura.index(menor_altura)\n",
        "\n",
        "print(f\"{nomes[maior_pessoa]} é a pessoa mais alta do grupo e mede: {maior_altura}\")\n",
        "print(f\"{nomes[menor_pessoa]} é a pessoa mais baixa do grupo e mede: {menor_altura}\")"
      ],
      "metadata": {
        "colab": {
          "base_uri": "https://localhost:8080/"
        },
        "id": "5V6f4UMeTd2o",
        "outputId": "5a2191ce-60af-4613-d4f0-a5510f0d70c7"
      },
      "execution_count": null,
      "outputs": [
        {
          "output_type": "stream",
          "name": "stdout",
          "text": [
            "Digite o nome da pessoa: lulu\n",
            "Digite a altura de desta pessoa: 1.8\n",
            "Digite o nome da pessoa: lili\n",
            "Digite a altura de desta pessoa: 1.4\n",
            "lulu é a pessoa mais alta do grupo e mede: 1.8\n",
            "lili é a pessoa mais baixa do grupo e mede: 1.4\n"
          ]
        }
      ]
    },
    {
      "cell_type": "code",
      "source": [
        "#7)Desenvolver um algoritmo que leia um número N DE VALORES e calcule e escreva a média aritmética dos valores lidos,\n",
        "# a quantidade de valores positivos e a quantidade de valores negativos.\n",
        "\n",
        "lista_notas = [] #lista vazia onde serão adicionadas as notas\n",
        "\n",
        "while True:\n",
        "  try:\n",
        "    n = int(input('Digite quantos valores você irá definir: '))\n",
        "    break\n",
        "  except:\n",
        "    print('Digite um número inteiro')\n",
        "\n",
        "for i in range(n): #percorre o i até o valor digitado pelo usuário \"n\"\n",
        "  nota = float(input(f\"Digite a {i+1}ª nota: \"))\n",
        "  lista_notas.append(nota) #envia valor para lista_notas\n",
        "\n",
        "somaNotas = 0\n",
        "\n",
        "for i in range(len(lista_notas)): #len(listas_notas) == n\n",
        "  somaNotas += lista_notas[i] #soma as notas da lista \n",
        "\n",
        "mediaNotas = somaNotas / n #calcula a média\n",
        "  \n",
        "print(f\"As média dos valores foi: {mediaNotas:.2f}\")\n",
        "\n",
        "\n",
        "positivo = 0\n",
        "negativo = 0\n",
        "nulo = 0\n",
        "num = 0\n",
        "\n",
        "while(num < len(lista_notas)):\n",
        "  if lista_notas[num] > 0:\n",
        "    positivo += 1\n",
        "  elif lista_notas[num] == 0:\n",
        "    nulo += 1\n",
        "  else:\n",
        "    negativo += 1\n",
        "  \n",
        "  num += 1\n",
        "\n",
        "print(f'O número de valores positivos é: {positivo}')\n",
        "print(f'O número de valores negativos é: {negativo}')\n",
        "print(f'O número de valores nulos é: {nulo}')"
      ],
      "metadata": {
        "colab": {
          "base_uri": "https://localhost:8080/"
        },
        "id": "eVhMCPkIqHEN",
        "outputId": "09e826db-66b5-4d2b-9813-a3e3d129a8be"
      },
      "execution_count": null,
      "outputs": [
        {
          "output_type": "stream",
          "name": "stdout",
          "text": [
            "Digite quantos valores você irá definir: l\n",
            "Digite um número inteiro\n",
            "Digite quantos valores você irá definir: po\n",
            "Digite um número inteiro\n",
            "Digite quantos valores você irá definir: 9.2\n",
            "Digite um número inteiro\n",
            "Digite quantos valores você irá definir: 2\n",
            "Digite a 1ª nota: 9\n",
            "Digite a 2ª nota: 0\n",
            "As média dos valores foi: 4.50\n",
            "O número de valores positivos é: 1\n",
            "O número de valores negativos é: 0\n",
            "O número de valores nulos é: 1\n"
          ]
        }
      ]
    },
    {
      "cell_type": "code",
      "source": [
        "#8)Faça um algoritmo estruturado que leia um número N de números positivos.\n",
        "#Calcule a quantidade de números pares e ímpares, a média de valores pares e\n",
        "#a média geral dos números lidos.\n",
        "#O número que encerrará a leitura será zero.\n",
        "\n",
        "lista_valor = []\n",
        "while True:\n",
        "  try:\n",
        "    A = int(input('Digite um valor inicial positivo ou \"0\" para sair: '))\n",
        "  except:\n",
        "    print('Digite um número inteiro e positivo.')\n",
        "  if A == 0:\n",
        "    break  \n",
        "\n",
        "  for i in range(A): #percorre o i até o valor digitado pelo usuário \"A\"\n",
        "    valor = float(input(f\"Digite a {i+1}º valor: \"))\n",
        "    lista_valor.append(valor) #envia valor para lista_valor\n",
        "\n",
        "  #Média dos valores lidos:\n",
        "  somaNotas = 0\n",
        "  lista_valor1 = lista_valor\n",
        "  for i in range(len(lista_valor1)):\n",
        "    somaNotas += lista_valor1[i] #soma as notas da lista \n",
        "\n",
        "  mediaNotas = somaNotas / A #calcula a média\n",
        "    \n",
        "  print(f\"As média dos valores lidos foi: {mediaNotas:.2f}\")\n",
        "\n",
        "\n",
        "\n",
        "  #Quantidade de números pares:\n",
        "  par = []\n",
        "  for c in lista_valor:\n",
        "    if c % 2 == 0:\n",
        "      par.append(c)\n",
        "  n_par = len(par)\n",
        "  print(f\"A quantidade de números pares é: {n_par}\")\n",
        "\n",
        "  #Quantidade de números impares:\n",
        "  impar = []\n",
        "  for d in lista_valor:\n",
        "    if d % 2 != 0:\n",
        "      impar.append(d)\n",
        "  n_impar = len(impar)\n",
        "  print(f\"A quantidade de números ímpares é: {n_impar}\")\n",
        "\n",
        "  #Média par:\n",
        "  soma_par = 0\n",
        "  for i in range(len(par)):\n",
        "    soma_par += par[i] #soma as notas da lista \n",
        "\n",
        "  media_par = soma_par / len(par)\n",
        "  print(f\"A média dos números pares é: {media_par}\")\n"
      ],
      "metadata": {
        "id": "t2mSyFApw9tj",
        "colab": {
          "base_uri": "https://localhost:8080/"
        },
        "outputId": "7e4f02c2-4ba6-45e2-95dd-f41199e797c1"
      },
      "execution_count": null,
      "outputs": [
        {
          "name": "stdout",
          "output_type": "stream",
          "text": [
            "Digite um valor inicial positivo ou \"0\" para sair: 4\n",
            "Digite a 1º valor: 4\n",
            "Digite a 2º valor: 6\n",
            "Digite a 3º valor: 7\n",
            "Digite a 4º valor: 8\n",
            "As média dos valores lidos foi: 6.25\n",
            "A quantidade de números pares é: 3\n",
            "A quantidade de números ímpares é: 1\n",
            "A média dos números pares é: 6.0\n",
            "Digite um valor inicial positivo ou \"0\" para sair: 0\n"
          ]
        }
      ]
    },
    {
      "cell_type": "code",
      "source": [
        "#9) Faça um Programa que leia uma lista de 10 números reais e mostre-os na ordem inversa.\n",
        "#como criar tratamento de erros?\n",
        "\n",
        "lista = []\n",
        "for i in range(10):\n",
        "  valor = float(input(f\"Digite o {i+1}º valor: \"))\n",
        "  lista.append(valor)\n",
        "\n",
        "print(lista[::-1])\n",
        "\n"
      ],
      "metadata": {
        "id": "Ku9Cmz6OLhN9",
        "colab": {
          "base_uri": "https://localhost:8080/"
        },
        "outputId": "ef7cbad8-3cef-43d5-8475-e533447441e3"
      },
      "execution_count": null,
      "outputs": [
        {
          "output_type": "stream",
          "name": "stdout",
          "text": [
            "Digite o 0º valor: 5\n",
            "[5.0]\n"
          ]
        }
      ]
    },
    {
      "cell_type": "code",
      "source": [
        "#10) Faça um Programa que leia 10 notas e armazene-as dentro de uma lista.\n",
        "# Em seguida mostre as notas e a média na tela.\n",
        "\n",
        "lista_valor = []\n",
        "while True:\n",
        "  for i in range(10): #percorre o i até o valor digitado pelo usuário \"A\"\n",
        "    valor = int(input(f\"Digite a {i+1}º valor: \"))\n",
        "    lista_valor.append(valor) #envia valor para lista_valor\n",
        "  \n",
        "  #Média dos valores lidos:\n",
        "  somaNotas = 0\n",
        "  lista_valor1 = lista_valor\n",
        "  for i in range(len(lista_valor1)):\n",
        "    somaNotas += lista_valor1[i] #soma as notas da lista \n",
        "\n",
        "  mediaNotas = somaNotas / 3 #calcula a média\n",
        "    \n",
        "  print(f\"As notas foram: {lista_valor}, e a média das notas foi: {mediaNotas:.2f}\")\n",
        "  break"
      ],
      "metadata": {
        "colab": {
          "base_uri": "https://localhost:8080/"
        },
        "id": "SlJqnAPQXL3L",
        "outputId": "8edfc671-8afd-460f-cd53-a26fff68c095"
      },
      "execution_count": null,
      "outputs": [
        {
          "output_type": "stream",
          "name": "stdout",
          "text": [
            "Digite a 1º valor: 10\n",
            "Digite a 2º valor: 9\n",
            "Digite a 3º valor: 8\n",
            "As notas foram: [10.0, 9.0, 8.0], e a média das notas foi: 9.00\n"
          ]
        }
      ]
    },
    {
      "cell_type": "code",
      "source": [
        "#11) Faça um Programa que leia uma palavra de 10 caracteres,\n",
        "# e diga quantas consoantes foram lidas. Imprima as consoantes.\n",
        "\n",
        "palavra = input(\"Digite uma palavra de até 10 caracteres: \")\n",
        "#Limitar exibição de input até 10 caracteres:\n",
        "def diminuir(str):\n",
        "    if len(str) > 10:\n",
        "        return str[:10]\n",
        "    else:\n",
        "        return str\n",
        "\n",
        "palavra10 = diminuir(palavra)\n",
        "\n",
        "#Contar consoantes e gravar consoantes\n",
        "lista_consoantes = [] #ou lista_consoantes = \"\"\n",
        "\n",
        "for letra in palavra10: #percorre string palavra10 (limitada a 10 caracteres)\n",
        "  if (letra in \"bcdfghjklmnpqrstvwxyzBCDFGHJKLMNPQRSTVWXYZ\"): #se letra tiver em \"lista de consoantes\"\n",
        "    lista_consoantes += letra #adiciona na lista_consoantes a letra que não é aeiou\n",
        "      \n",
        "print(f'As consoantes são {lista_consoantes} e o número de consoantes é {len(lista_consoantes)}')\n"
      ],
      "metadata": {
        "colab": {
          "base_uri": "https://localhost:8080/"
        },
        "id": "4g-cUaAjhjsg",
        "outputId": "af60479a-64f8-4aed-8c0f-7015f58ef1ef"
      },
      "execution_count": null,
      "outputs": [
        {
          "output_type": "stream",
          "name": "stdout",
          "text": [
            "Digite uma palavra de até 10 caracteres: malandragem\n",
            "As consoantes são ['m', 'l', 'n', 'd', 'r', 'g'] e o número de consoantes é 6\n"
          ]
        }
      ]
    },
    {
      "cell_type": "code",
      "source": [
        "#12) Imprima só as consoantes de uma frase\n",
        "frase = input(\"Digite a frase: \")\n",
        "resposta = \" \"\n",
        "for letra in frase:\n",
        "  if not (letra in \"aeiouAEIOU\"):\n",
        "    resposta += letra\n",
        "print(resposta)"
      ],
      "metadata": {
        "colab": {
          "base_uri": "https://localhost:8080/"
        },
        "id": "S-peWv2WjfqP",
        "outputId": "87f4309b-4ac7-45a7-df30-c7fe30b0240c"
      },
      "execution_count": null,
      "outputs": [
        {
          "output_type": "stream",
          "name": "stdout",
          "text": [
            "Digite a frase: mamão\n",
            " mmã\n"
          ]
        }
      ]
    },
    {
      "cell_type": "code",
      "source": [
        "#13) Faça um Programa que leia 20 números inteiros e armazene-os numa lista.\n",
        "#Em seguida, percorra a lista e armazene os números pares em uma nova lista PAR\n",
        "#e os números IMPARES em uma nova lista ímpar. Ao final, imprima as 3 listas.\n",
        "\n",
        "lista_valor = []\n",
        "while True:\n",
        "  for i in range(20): #percorre o i até o valor digitado pelo usuário \"A\"\n",
        "    valor = int(input(f\"Digite a {i+1}º valor: \"))\n",
        "    lista_valor.append(valor) #envia valor para lista_valor\n",
        "  print(f\"Os números informados são: {lista_valor}\")\n",
        "  \n",
        "\n",
        "#Quantidade de números pares:\n",
        "  par = []\n",
        "  for c in lista_valor:\n",
        "    if c % 2 == 0:\n",
        "      par.append(c)\n",
        "  n_par = len(par)\n",
        "  print(f\"A quantidade de números pares é: {n_par}\")\n",
        "\n",
        "  #Quantidade de números impares:\n",
        "  impar = []\n",
        "  for d in lista_valor:\n",
        "    if d % 2 != 0:\n",
        "      impar.append(d)\n",
        "  n_impar = len(impar)\n",
        "  print(f\"A quantidade de números ímpares é: {n_impar}\")\n",
        "  break "
      ],
      "metadata": {
        "id": "lxHm9sh1t9ku",
        "colab": {
          "base_uri": "https://localhost:8080/"
        },
        "outputId": "2d1fc3de-6e0e-4e5d-b18a-b98cc94e4100"
      },
      "execution_count": null,
      "outputs": [
        {
          "output_type": "stream",
          "name": "stdout",
          "text": [
            "Digite a 1º valor: 99\n",
            "Digite a 2º valor: 67\n",
            "Digite a 3º valor: 90\n",
            "Os números informados são: [99, 67, 90]\n",
            "A quantidade de números pares é: 1\n",
            "A quantidade de números ímpares é: 2\n"
          ]
        }
      ]
    },
    {
      "cell_type": "code",
      "source": [
        "#14) Faça um Programa que peça as quatro notas de 10 alunos,\n",
        "#calcule e armazene numa lista a média de cada aluno.\n",
        "#Ao final imprima o número de alunos com média maior ou igual a 7.0.\n",
        "\n",
        "i = 0\n",
        "j = 0\n",
        "ficha = []\n",
        "\n",
        "for i in range(10):\n",
        "  nome = (input(f\"Digite o nome do {i+1}º aluno: \"))\n",
        "  nota1 = float(input(f\"Digite a 1ª nota de {nome}: \"))\n",
        "  nota2 = float(input(f\"Digite a 2ª nota de {nome}: \"))\n",
        "  nota3 = float(input(f\"Digite a 3ª nota de {nome}: \"))\n",
        "  nota4 = float(input(f\"Digite a 4ª nota de {nome}: \"))\n",
        "  media = (nota1 + nota2 + nota3 + nota4) / 4\n",
        "  ficha.append(media)\n",
        "\n",
        "numeromedia = 0\n",
        "for j in ficha:\n",
        "  if j >= 7.0:\n",
        "    numeromedia += 0\n",
        "\n",
        "print(f\"O número de alunos com média maior ou igual a 7.0 é {numeromedia}\")\n"
      ],
      "metadata": {
        "id": "Z6HAjx5jYXWi"
      },
      "execution_count": null,
      "outputs": []
    },
    {
      "cell_type": "code",
      "source": [
        "#15) Faça um programa que leia o nome de dez alunos, juntamente com 3 notas de avaliação para cada um.\n",
        "#Em seguida, tire a média de cada aluno e também armazene as médias.\n",
        "#Ao final, imprima o nome de cada aluno e a sua média.\n",
        "\n",
        "i = 0\n",
        "ficha = []\n",
        "\n",
        "for i in range(10):\n",
        "  nome = (input(f\"Digite o nome do {i+1}º aluno: \"))\n",
        "  nota1 = float(input(f\"Digite a 1ª nota de {nome}: \"))\n",
        "  nota2 = float(input(f\"Digite a 2ª nota de {nome}: \"))\n",
        "  nota3 = float(input(f\"Digite a 3ª nota de {nome}: \"))\n",
        "  media = (nota1 + nota2 + nota3) / 3\n",
        "  ficha.append([nome, media])\n",
        "\n",
        "print(\"--------------------------\")\n",
        "print(f\"A lista com nome e média dos alunos é:\")\n",
        "for i in ficha:\n",
        "  print(*i, sep = \", \")"
      ],
      "metadata": {
        "colab": {
          "base_uri": "https://localhost:8080/"
        },
        "id": "KCIdqRIbbMcL",
        "outputId": "ca21503c-e6f8-4fb3-9683-fd57d790dadf"
      },
      "execution_count": null,
      "outputs": [
        {
          "output_type": "stream",
          "name": "stdout",
          "text": [
            "Digite o nome do 1º aluno: Marina\n",
            "Digite a 1ª nota de Marina: 6\n",
            "Digite a 2ª nota de Marina: 7\n",
            "Digite a 3ª nota de Marina: 5\n",
            "Digite o nome do 2º aluno: Rayssa\n",
            "Digite a 1ª nota de Rayssa: 10\n",
            "Digite a 2ª nota de Rayssa: 10\n",
            "Digite a 3ª nota de Rayssa: 10\n",
            "A lista com nome e média dos alunos é:\n",
            "Marina, 6.0\n",
            "Rayssa, 10.0\n"
          ]
        }
      ]
    },
    {
      "cell_type": "code",
      "source": [
        "#16) Faça um Programa que leia uma lista de 5 números inteiros. Em seguida, calcule a soma e a multiplicação entre os números.\n",
        "#Ao final exiba os números da lista, o valor da soma e da multiplicação.\n",
        "\n",
        "lista_n = []\n",
        "\n",
        "while True:\n",
        "  for i in range(5):\n",
        "    lista = int(input('Digite um número inteiro: '))\n",
        "    lista_n.append(lista)\n",
        "  break\n",
        "\n",
        "print('A lista de números é: ', end='' )\n",
        "print(*lista_n, sep = ',')\n",
        "\n",
        "\n",
        "#Somar elementos de uma lista:\n",
        "soma_lista = sum(lista_n)\n",
        "print('A soma dos números da lista é:', soma_lista)\n",
        "\n",
        "#Multiplicação elementos de uma lista:\n",
        "multi = 1\n",
        "for i in lista_n:\n",
        "    multi *= i\n",
        "print('A multiplicação dos números da lista é:', multi)\n"
      ],
      "metadata": {
        "colab": {
          "base_uri": "https://localhost:8080/"
        },
        "id": "O8IlEzPLrC8X",
        "outputId": "4d36d5d2-d8de-469d-9dbc-00a96cca2340"
      },
      "execution_count": null,
      "outputs": [
        {
          "output_type": "stream",
          "name": "stdout",
          "text": [
            "Digite um número inteiro: 2\n",
            "Digite um número inteiro: 2\n",
            "Digite um número inteiro: 2\n",
            "Digite um número inteiro: 2\n",
            "Digite um número inteiro: 0\n",
            "A lista de números é: 2,2,2,2,0\n",
            "A soma dos números da lista é: 8\n",
            "A multiplicação dos números da lista é: 0\n"
          ]
        }
      ]
    },
    {
      "cell_type": "code",
      "source": [
        "#17) Crie um dicionário Pessoas e coloque nele seus dados: nome, idade, telefone,endereço.\n",
        "#Usando o dicionário Pessoas criado anteriormente, imprima seu nome.\n",
        "\n",
        "Pessoas = {\"nome\": \"Marina\", \"idade\": 29, \"telefone\": \"(83)898926259\", \"endereço\": \"Rua João Gonçalves Lunes n90\"}\n",
        "\n",
        "print(Pessoas['nome'])"
      ],
      "metadata": {
        "colab": {
          "base_uri": "https://localhost:8080/"
        },
        "id": "evcs-gYK4URs",
        "outputId": "10bcc2e8-ed84-4f04-9345-703b7a6e7985"
      },
      "execution_count": null,
      "outputs": [
        {
          "output_type": "stream",
          "name": "stdout",
          "text": [
            "Marina\n"
          ]
        }
      ]
    },
    {
      "cell_type": "code",
      "source": [
        "#18) Crie uma lista contendo N alunos (deverá ser lido pelo usuário). Para cada pessoa da lista,\n",
        "# deverão ser armazenados dados para Nome, idade, endereço e telefone.\n",
        "#Ao final, peça para o usuário escolher um número de 1 até N(que foi digitado anteriormente)\n",
        "# e exiba na tela os dados referentes a esse aluno.\n",
        "\n",
        "lista_aluno = []\n",
        "while True:\n",
        "  try:\n",
        "    A = int(input('Digite o número de alunos que deseja inserir na lista: '))\n",
        "    \n",
        "  except:\n",
        "      print('Digite um número inteiro e positivo.')\n",
        "  \n",
        "  for i in range(A): #percorre o i até o valor digitado pelo usuário \"A\"\n",
        "    nome = str(input(f\"Digite o nome do {i+1}º aluno: \"))\n",
        "    idade = int(input(f\"Digite a idade do {i+1}º aluno: \"))\n",
        "    endereco = str(input(f\"Digite o endereço do {i+1}º aluno: \"))\n",
        "    telefone = str(input(f\"Digite o telefone do {i+1}º aluno: \"))            \n",
        "    lista_aluno.append({'Nome': nome, 'Idade': idade, 'Endereco': endereco, 'Telefone': telefone}) #envia valor para lista_aluno\n",
        "  break  \n",
        "     \n",
        "while True:\n",
        "  try:\n",
        "    escolha = int(input(f\"Escolha um valor entre 1 e {A}: \"))\n",
        "    while escolha < 1 or escolha > A:\n",
        "      print('Digite um valor válido.')\n",
        "      escolha = int(input(f\"Escolha um valor entre 1 e {A}: \"))\n",
        "    break\n",
        "  except:\n",
        "    print('Digite um número inteiro')\n",
        "\n",
        "escolha = i\n",
        "print(\"As informações desejadas são:\")\n",
        "print(lista_aluno[i])"
      ],
      "metadata": {
        "id": "kGNX74Fh5bkY",
        "colab": {
          "base_uri": "https://localhost:8080/"
        },
        "outputId": "d889bb96-91d7-4b05-ca24-a0c8ffdcda0a"
      },
      "execution_count": null,
      "outputs": [
        {
          "output_type": "stream",
          "name": "stdout",
          "text": [
            "Digite o número de alunos que deseja inserir na lista: 1\n",
            "Digite o nome do 1º aluno: f\n",
            "Digite a idade do 1º aluno: 3\n",
            "Digite o endereço do 1º aluno: f\n",
            "Digite o telefone do 1º aluno: 3\n",
            "Escolha um valor entre 1 e 1: 2\n",
            "Digite um valor diferente de zero.\n",
            "Escolha um valor entre 1 e 1: 3\n",
            "Digite um valor diferente de zero.\n",
            "Escolha um valor entre 1 e 1: 1\n",
            "As informações desejadas são:\n",
            "{'Nome': 'f', 'Idade': 3, 'Endereco': 'f', 'Telefone': '3'}\n"
          ]
        }
      ]
    },
    {
      "cell_type": "code",
      "source": [
        "#19) Crie um dicionário clientes e coloque nele os dados fornecidos pelo usuário: nome, idade, telefone,endereço.\n",
        "#Em seguida, imprima todos os itens do dicionário no formato chave : valor, ordenado pela chave\n",
        "\n",
        "clientes = {}\n",
        "A = int(input('Digite o número de clientes que deseja inserir na lista: '))\n",
        "\n",
        "for k in range(A):\n",
        "    nome = str(input(f\"Digite o nome do {k+1}º cliente: \"))\n",
        "    idade = int(input(f\"Digite a idade do {k+1}º cliente: \"))\n",
        "    endereco = str(input(f\"Digite o endereço do {k+1}º cliente: \"))\n",
        "    telefone = str(input(f\"Digite o telefone do {k+1}º cliente: \"))\n",
        "    clientes[k]={}\n",
        "    clientes[k].update({'Nome': nome})\n",
        "    clientes[k].update({'Idade': idade})\n",
        "    clientes[k].update({'Endereco': endereco})\n",
        "    clientes[k].update({'Telefone': telefone})\n",
        "    \n",
        "\n",
        "for i in clientes:\n",
        "    print(\"\\nNome:\",clientes[i]['Nome'], \"\\nIdade:\", clientes[i]['Idade'], \"\\nTelefone:\", clientes[i]['Telefone'], clientes[i]['Endereco'])"
      ],
      "metadata": {
        "id": "zjgzUB6G-yrx"
      },
      "execution_count": null,
      "outputs": []
    },
    {
      "cell_type": "code",
      "source": [
        "#20) Crie um programa que cadastre informações de várias pessoas (nome, idade e cpf) e depois coloque em um dicionário.\n",
        "#Depois remova todas as pessoas menores de 18 anos do dicionário e coloque em outro dicionário.\n",
        "\n",
        "usuarios = {}\n",
        "usuariosMaiores18 = {}\n",
        "excluir = []\n",
        "A = int(input('Digite o número de usuários que deseja inserir na lista: '))\n",
        "\n",
        "for k in range(A):\n",
        "  while True:\n",
        "    try:\n",
        "      nome = str(input(f\"Digite o nome do {k+1}º usuário: \"))\n",
        "      idade = int(input(f\"Digite a idade do {k+1}º usuário: \"))\n",
        "      cpf = int(input(f\"Digite o CPF do {k+1}º usuário: \"))\n",
        "    \n",
        "      usuarios[k]={}\n",
        "      usuarios[k].update({'Nome': nome})\n",
        "      usuarios[k].update({'Idade': idade})\n",
        "      usuarios[k].update({'CPF': cpf})\n",
        "      break\n",
        "    except:\n",
        "      print('Digite os dados corretamente')\n",
        "\n",
        "for i in usuarios:\n",
        "  if usuarios[i]['Idade'] >=18:\n",
        "    usuariosMaiores18[i] = usuarios[i]\n",
        "    excluir.append(i)\n",
        "\n",
        "for i in excluir:\n",
        "    usuarios.pop(i)\n",
        "\n",
        "\n",
        "print(\"---------------\")\n",
        "print('Menores de idade:',usuarios)\n",
        "print('Maiores de idade:',usuariosMaiores18)\n"
      ],
      "metadata": {
        "colab": {
          "base_uri": "https://localhost:8080/"
        },
        "id": "SORqGZvlcbnY",
        "outputId": "e32a0e8e-e442-4f74-d1d4-32914cc948b1"
      },
      "execution_count": null,
      "outputs": [
        {
          "output_type": "stream",
          "name": "stdout",
          "text": [
            "Digite o número de usuários que deseja inserir na lista: 2\n",
            "Digite o nome do 1º usuário: le\n",
            "Digite a idade do 1º usuário: 20\n",
            "Digite o CPF do 1º usuário: 020202020\n",
            "Digite o nome do 2º usuário: li\n",
            "Digite a idade do 2º usuário: 2\n",
            "Digite o CPF do 2º usuário: 020202\n",
            "---------------\n",
            "Menores de idade: {1: {'Nome': 'li', 'Idade': 2, 'CPF': 20202}}\n",
            "Maiores de idade: {0: {'Nome': 'le', 'Idade': 20, 'CPF': 20202020}}\n"
          ]
        }
      ]
    },
    {
      "cell_type": "code",
      "source": [
        "#20) Crie um programa que cadastre informações de várias pessoas (nome, idade e cpf) e depois coloque em um dicionário.\n",
        "#Depois remova todas as pessoas menores de 18 anos do dicionário e coloque em outro dicionário.\n",
        "\n",
        "#Outra forma de resolução:\n",
        "\n",
        "usuarios = {}\n",
        "usuariosMenor18 = {}\n",
        "\n",
        "A = int(input('Digite o número de usuários que deseja inserir na lista: '))\n",
        "excluir = []\n",
        "\n",
        "for k in range(A):\n",
        "  cpf = int(input(f\"Digite o CPF do {k+1}º usuário: \"))\n",
        "  usuarios[cpf] = {'nome': input(f\"Digite o nome do {k+1}º usuário: \")}\n",
        "  usuarios[cpf]['idade'] = int(input(f\"Digite a idade do {k+1}º usuário: \"))\n",
        "\n",
        "for k in usuarios:\n",
        "    if usuarios[k]['idade'] < 18:\n",
        "        usuariosMenor18[k] = usuarios[k]\n",
        "        excluir.append(k)\n",
        "for k in excluir:\n",
        "    usuarios.pop(k)\n",
        "              \n",
        "print('Maiores de idade:',usuarios)\n",
        "print('Menores de idade:',usuariosMenor18)"
      ],
      "metadata": {
        "id": "ZQw4yHgxJ7E5"
      },
      "execution_count": null,
      "outputs": []
    },
    {
      "cell_type": "code",
      "source": [
        "#21) Crie um dicionário que é uma agenda e coloque nele os seguintes dados:\n",
        "#chave (cpf), nome, idade, telefone. O programa deve ler um número indeterminado de dados,\n",
        "#criar a agenda e imprimir todos os itens do dicionário no formato chave: nome-idade-fone.\n",
        "\n",
        "agenda = {}\n",
        "\n",
        "ir = True\n",
        "while ir:\n",
        "    id = input('Digite qualquer valor para continuar ou \"0\" para sair: ')\n",
        "    if id!='0':\n",
        "        agenda[id] = {'Nome':input('Nome: ')}\n",
        "        agenda[id]['Idade']  = input('Idade: ')\n",
        "        agenda[id]['Telefone'] = input('Telefone: ')\n",
        "    else:\n",
        "      ir = False\n",
        "  \n",
        "print(\"\\n---------------------\\n\")    \n",
        "print(\"Agenda:\")\n",
        "\n",
        "for i in agenda:\n",
        "    print(\"\\nNome:\",agenda[i]['Nome'], \"\\nIdade:\", agenda[i]['Idade'], \"\\nTelefone:\", agenda[i]['Telefone'])\n"
      ],
      "metadata": {
        "colab": {
          "base_uri": "https://localhost:8080/"
        },
        "id": "_vdLuAv03CUa",
        "outputId": "b0568da9-6ebf-4be4-a95d-a1486b141f36"
      },
      "execution_count": null,
      "outputs": [
        {
          "output_type": "stream",
          "name": "stdout",
          "text": [
            "Digite qualquer valor para continuar ou \"0\" para sair: 7\n",
            "Nome: Rayssa\n",
            "Idade: 15\n",
            "Telefone: 4490230202\n",
            "Digite qualquer valor para continuar ou \"0\" para sair: 2ifd\n",
            "Nome: Marina\n",
            "Idade: 15\n",
            "Telefone: 02020202\n",
            "Digite qualquer valor para continuar ou \"0\" para sair: 0\n",
            "\n",
            "---------------------\n",
            "\n",
            "Agenda:\n",
            "\n",
            "Nome: Rayssa \n",
            "Idade: 15 \n",
            "Telefone: 4490230202\n",
            "\n",
            "Nome: Marina \n",
            "Idade: 15 \n",
            "Telefone: 02020202\n"
          ]
        }
      ]
    },
    {
      "cell_type": "code",
      "source": [
        "# 22) Faça uma função que recebe a idade de uma pessoa em anos, meses e dias e retorna essa idade expressa em dias.\n",
        "\n",
        "def dias(n1, n2, n3):\n",
        "  return (n1 * 365) + (n2 * 30) + n3\n",
        "\n",
        "while True:\n",
        "  try:\n",
        "    n1 = int(input('Você tem quantos anos? '))\n",
        "    n2 = int(input('meses: '))\n",
        "    n3 = int(input('e dias?: '))\n",
        "    break\n",
        "  except:\n",
        "    print('Digite um número inteiro')\n",
        "\n",
        "total_dias = dias(n1, n2, n3)\n",
        "\n",
        "print(f'Você tem {total_dias} de vida!')\n"
      ],
      "metadata": {
        "colab": {
          "base_uri": "https://localhost:8080/"
        },
        "id": "6n5uvohfXlzn",
        "outputId": "9dcd923c-53fc-45b1-95c4-46652165964d"
      },
      "execution_count": null,
      "outputs": [
        {
          "output_type": "stream",
          "name": "stdout",
          "text": [
            "Você tem quantos anos? 40\n",
            "Meses: 3\n",
            "e dias?: 4\n",
            "Você tem 14694 de vida!\n"
          ]
        }
      ]
    },
    {
      "cell_type": "code",
      "source": [
        "#23) Faça uma função que verifique se um valor é perfeito ou não.\n",
        "#Um valor é dito perfeito quando ele é igual a soma dos seus divisores excetuando ele próprio.\n",
        "#(Ex: 6 é perfeito, 6 = 1 + 2 + 3, que são seus divisores). A função deve retornar um valor booleano.\n",
        "\n",
        "def perfeito(n):\n",
        "  soma = 0\n",
        "  i = 0\n",
        "  for i in range(1, n):\n",
        "    if n % i == 0:\n",
        "      soma += i\n",
        "  if soma == n:\n",
        "      return True\n",
        "  else:\n",
        "      return False\n",
        "      \n",
        "n = int(input('Esse número é perfeito? '))\n",
        "\n",
        "print(perfeito(n)) #retorna True ou False\n",
        "\n",
        "# if perfeito(n):\n",
        "#   print('É perfeito')\n",
        "# else:\n",
        "#   print('Não é perfeito')"
      ],
      "metadata": {
        "colab": {
          "base_uri": "https://localhost:8080/"
        },
        "id": "JvLcRbe-4xI-",
        "outputId": "ff42fe66-2035-49df-adc6-5a2499f25c7c"
      },
      "execution_count": null,
      "outputs": [
        {
          "output_type": "stream",
          "name": "stdout",
          "text": [
            "Esse número é perfeito? 5\n",
            "False\n"
          ]
        }
      ]
    },
    {
      "cell_type": "code",
      "source": [
        "#24) Escreva uma função que recebes 3 valores reais X, Y e Z e que verifique se esses valores\n",
        "#podem ser os comprimentos dos lados de um triângulo e, neste caso, retornar qual o tipo de triângulo formado.\n",
        "#Para que X, Y e Z formem um triângulo é necessário que a seguinte propriedade seja satisfeita:\n",
        "\n",
        "#o comprimento de cada lado de um triângulo é menor do que a soma do comprimento dos outros dois lados.\n",
        "#A função deve identificar o tipo de triângulo formado observando as seguintes definições:\n",
        "\n",
        "#Triângulo Equilátero: os comprimentos dos 3 lados são iguais.\n",
        "#Triângulo Isósceles: os comprimentos de 2 lados são iguais.\n",
        "#Triângulo Escaleno: os comprimentos dos 3 lados são diferentes.\n",
        "\n",
        "def lados(n1,n2,n3):\n",
        "  while (n1 < (n2+n3)) and (n2 < (n1+n3)) and (n3 < (n1+n2)):\n",
        "    if n1 == n2 == n3:\n",
        "      equilatero = (n1 == n2 == n3)\n",
        "      return 'equilátero'\n",
        "\n",
        "    elif n1 == n2 or n1 == n3 or n2 == n3:\n",
        "      isosceles = (n1 == n2) or (n1 == n3) or (n2 == n3)\n",
        "      return 'isósceles'\n",
        "      \n",
        "    elif n1 != n2 != n3:\n",
        "      escaleno = n1 != n2 != n3\n",
        "      return 'escaleno'\n",
        "    \n",
        "  else:\n",
        "    return False\n",
        "\n",
        "while True:\n",
        "  try:\n",
        "    n1 = float(input('Digite o primeiro lado do triângulo: '))\n",
        "    n2 = float(input('Digite o segundo lado do triângulo: '))\n",
        "    n3 = float(input('Digite o terceiro lado do triângulo: '))\n",
        "    break\n",
        "  except:\n",
        "    print('Digite um número válido')\n",
        "\n",
        "retorno = lados(n1, n2, n3)\n",
        "\n",
        "while True:\n",
        "  if retorno:\n",
        "    print(f'Esse triângulo é {retorno}.')\n",
        "  else:\n",
        "    print(f'Não é triângulo!')\n",
        "  break\n"
      ],
      "metadata": {
        "colab": {
          "base_uri": "https://localhost:8080/"
        },
        "id": "14dD5Ci--PuZ",
        "outputId": "47dcecfe-d6a5-4a37-c726-f00d08a0b87f"
      },
      "execution_count": null,
      "outputs": [
        {
          "output_type": "stream",
          "name": "stdout",
          "text": [
            "Digite o primeiro lado do triângulo: 5\n",
            "Digite o segundo lado do triângulo: 7\n",
            "Digite o terceiro lado do triângulo: 8\n",
            "Esse triângulo é escaleno.\n"
          ]
        }
      ]
    },
    {
      "cell_type": "code",
      "source": [
        "#25) Faça um programa para encontrar todos os múltiplos de 3, de 1 a 50.\n",
        "\n",
        "i=0\n",
        "def mult():\n",
        "  for i in range(3,50):\n",
        "    if i % 3 == 0:\n",
        "      print(i, end = '; ')\n",
        "    \n",
        "retorno = mult()\n",
        "\n",
        "print(retorno)\n",
        "\n"
      ],
      "metadata": {
        "colab": {
          "base_uri": "https://localhost:8080/"
        },
        "id": "o1kHfD_sOAUF",
        "outputId": "d38fe9db-b531-495a-fa30-7c6d523ffeb6"
      },
      "execution_count": null,
      "outputs": [
        {
          "output_type": "stream",
          "name": "stdout",
          "text": [
            "3; 6; 9; 12; 15; 18; 21; 24; 27; 30; 33; 36; 39; 42; 45; 48; None\n"
          ]
        }
      ]
    },
    {
      "cell_type": "code",
      "source": [
        "#26) Leia um valor inteiro (aceitar somente valores entre 1 e 10) e escreva a tabuada de 1 a 10 do valor lido.\n",
        "\n",
        "i=1\n",
        "def soma(num):\n",
        "  for i in range(1, 11):\n",
        "    print(f'{num} + {i} = {num + i}')\n",
        "\n",
        "def sub(num):\n",
        "  for i in range(1, 11):\n",
        "    print(f'{num} - {i} = {num - i}')\n",
        "\n",
        "def multi(num):\n",
        "  for i in range(1, 11):\n",
        "    print(f'{num} x {i} = {num * i}')\n",
        "\n",
        "def divi(num):\n",
        "  for i in range(1, 11):\n",
        "    print(f'{num} / {i} = {num / i}')\n",
        "\n",
        "num = int(input(\"Digite um número positivo entre 1 e 10: \"))\n",
        "while 10 < num < 1:\n",
        "  num = int(input(\"Tente outra vez digite um número positivo: \"))\n",
        "\n",
        "print('----------------------------')\n",
        "print(f'A tabuada de adição de {num} é:')\n",
        "soma = soma(num)\n",
        "\n",
        "print('----------------------------')\n",
        "print(f'A tabuada de subtração de {num} é:')\n",
        "sub = sub(num)\n",
        "\n",
        "print('----------------------------')\n",
        "print(f'A tabuada de multiplicação de {num} é:')\n",
        "multi = multi(num)\n",
        "\n",
        "print('----------------------------')\n",
        "print(f'A tabuada de divisão de {num} é:')\n",
        "divi = divi(num)\n"
      ],
      "metadata": {
        "colab": {
          "base_uri": "https://localhost:8080/"
        },
        "id": "5mE9FFQ8R5xW",
        "outputId": "2029cd49-6c55-4bfb-da97-3d80fa28e0d5"
      },
      "execution_count": null,
      "outputs": [
        {
          "output_type": "stream",
          "name": "stdout",
          "text": [
            "Digite um número positivo entre 1 e 10: 6\n",
            "----------------------------\n",
            "A tabuada de adição de 6 é:\n",
            "6 + 1 = 7\n",
            "6 + 2 = 8\n",
            "6 + 3 = 9\n",
            "6 + 4 = 10\n",
            "6 + 5 = 11\n",
            "6 + 6 = 12\n",
            "6 + 7 = 13\n",
            "6 + 8 = 14\n",
            "6 + 9 = 15\n",
            "6 + 10 = 16\n",
            "----------------------------\n",
            "A tabuada de subtração de 6 é:\n",
            "6 - 1 = 5\n",
            "6 - 2 = 4\n",
            "6 - 3 = 3\n",
            "6 - 4 = 2\n",
            "6 - 5 = 1\n",
            "6 - 6 = 0\n",
            "6 - 7 = -1\n",
            "6 - 8 = -2\n",
            "6 - 9 = -3\n",
            "6 - 10 = -4\n",
            "----------------------------\n",
            "A tabuada de multiplicação de 6 é:\n",
            "6 x 1 = 6\n",
            "6 x 2 = 12\n",
            "6 x 3 = 18\n",
            "6 x 4 = 24\n",
            "6 x 5 = 30\n",
            "6 x 6 = 36\n",
            "6 x 7 = 42\n",
            "6 x 8 = 48\n",
            "6 x 9 = 54\n",
            "6 x 10 = 60\n",
            "----------------------------\n",
            "A tabuada de divisão de 6 é:\n",
            "6 / 1 = 6.0\n",
            "6 / 2 = 3.0\n",
            "6 / 3 = 2.0\n",
            "6 / 4 = 1.5\n",
            "6 / 5 = 1.2\n",
            "6 / 6 = 1.0\n",
            "6 / 7 = 0.8571428571428571\n",
            "6 / 8 = 0.75\n",
            "6 / 9 = 0.6666666666666666\n",
            "6 / 10 = 0.6\n"
          ]
        }
      ]
    },
    {
      "cell_type": "code",
      "source": [
        "#27) Faça um programa que leia 5 idades e mostre na tela a média das idades lidas.\n",
        "\n",
        "def media(n1, n2, n3, n4, n5):\n",
        "  media = (n1 + n2 + n3 + n4 + n5) / 5\n",
        "  return media\n",
        "\n",
        "n1 = int(input(\"Digite a 1ª idade: \"))\n",
        "n2 = int(input(\"Digite a 2ª idade: \"))\n",
        "n3 = int(input(\"Digite a 3ª idade: \"))\n",
        "n4 = int(input(\"Digite a 4ª idade: \"))\n",
        "n5 = int(input(\"Digite a 5ª idade: \"))\n",
        "\n",
        "retorno = media(n1, n2, n3, n4, n5)\n",
        "\n",
        "print(f'A média das idades é {retorno}')\n"
      ],
      "metadata": {
        "colab": {
          "base_uri": "https://localhost:8080/"
        },
        "id": "oXugPFhqR-dH",
        "outputId": "d184e8da-1430-4695-d04f-4cccc37d72cd"
      },
      "execution_count": null,
      "outputs": [
        {
          "output_type": "stream",
          "name": "stdout",
          "text": [
            "Digite a 1ª idade: 4\n",
            "Digite a 2ª idade: 2\n",
            "Digite a 3ª idade: 7\n",
            "Digite a 4ª idade: 6\n",
            "Digite a 5ª idade: 4\n",
            "A média das idades é 4.6\n"
          ]
        }
      ]
    },
    {
      "cell_type": "code",
      "source": [
        "#28) Faça um programa que leia 3 notas (de 0 a 10) e informe na tela a média das notas lidas.\n",
        "\n",
        "def media_nota(n1, n2, n3):\n",
        "  media = (n1 + n2 + n3) / 3\n",
        "  return media\n",
        "\n",
        "n1 = float(input(\"Digite uma nota: \"))\n",
        "while 10 < n1 < 0:\n",
        "  n1 = float(input(\"Digite uma nota válida: \"))\n",
        "\n",
        "n2 = float(input(\"Digite uma nota: \"))\n",
        "while 10 < n2 < 0:\n",
        "  n2 = float(input(\"Digite uma nota válida: \"))\n",
        "\n",
        "n3 = float(input(\"Digite uma nota: \"))\n",
        "while 10 < n3 < 0:\n",
        "  n3 = float(input(\"Digite uma nota válida: \"))\n",
        "\n",
        "retorno = media_nota(n1, n2, n3)\n",
        "\n",
        "print(f'A média das idades é {retorno}')\n"
      ],
      "metadata": {
        "colab": {
          "base_uri": "https://localhost:8080/"
        },
        "id": "URLXxzxiSCBA",
        "outputId": "c270bf96-8e08-4083-8b3e-501973abf607"
      },
      "execution_count": null,
      "outputs": [
        {
          "output_type": "stream",
          "name": "stdout",
          "text": [
            "Digite uma nota: 10\n",
            "Digite uma nota: 9\n",
            "Digite uma nota: 8\n",
            "A média das idades é 9.0\n"
          ]
        }
      ]
    },
    {
      "cell_type": "code",
      "source": [
        ""
      ],
      "metadata": {
        "id": "zQv-A7Whg8cl"
      },
      "execution_count": null,
      "outputs": []
    }
  ]
}